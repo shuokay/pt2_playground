{
 "cells": [
  {
   "cell_type": "code",
   "execution_count": 1,
   "id": "d211da89-bf39-4410-85b2-47e66295d7e3",
   "metadata": {},
   "outputs": [],
   "source": [
    "import torch\n",
    "import os\n",
    "import numpy as np\n",
    "# TORCH_LOGS=\"+dynamo,inductor,all\" and TORCHDYNAMO_VERBOSE=1\n",
    "os.environ[\"TORCH_LOGS\"] = \"+dynamo\"\n",
    "os.environ[\"TORCHDYNAMO_VERBOSE\"] = \"1\""
   ]
  },
  {
   "cell_type": "code",
   "execution_count": 2,
   "id": "607680a8-49c0-4331-9aa6-964eb3bc4ca3",
   "metadata": {},
   "outputs": [
    {
     "name": "stdout",
     "output_type": "stream",
     "text": [
      "tensor([0.3354, 0.4742, 0.7497])\n",
      "opcode       name    target    args         kwargs\n",
      "-----------  ------  --------  -----------  --------\n",
      "placeholder  l_x_    L_x_      ()           {}\n",
      "call_method  sum_1   sum       (l_x_,)      {}\n",
      "output       output  output    ((sum_1,),)  {}\n",
      "opcode         name             target                                                      args                    kwargs\n",
      "-------------  ---------------  ----------------------------------------------------------  ----------------------  --------\n",
      "placeholder    l_x_             L_x_                                                        ()                      {}\n",
      "call_function  wrapped_uniform  <Wrapped function <original uniform>>                       (0, 1)                  {}\n",
      "call_function  gt               <built-in function gt>                                      (wrapped_uniform, 0.5)  {}\n",
      "call_function  sigmoid          <built-in method sigmoid of type object at 0x7f63ae239d00>  (l_x_,)                 {}\n",
      "output         output           output                                                      ((gt, sigmoid),)        {}\n"
     ]
    },
    {
     "data": {
      "text/plain": [
       "tensor([0.3354, 0.4742, 0.7497])"
      ]
     },
     "execution_count": 2,
     "metadata": {},
     "output_type": "execute_result"
    }
   ],
   "source": [
    "def fn(x):\n",
    "    flag = x.sum().item() # not support by inductor\n",
    "    # flag = True\n",
    "    flag = np.random.uniform(0, 1) > 0.5\n",
    "    # print() # inductor didn't support\n",
    "    x  = torch.sigmoid(x)\n",
    "    if flag:\n",
    "        x = torch.relu(x)\n",
    "    return x\n",
    "\n",
    "def custom_comppiler(gm, example_inputs):\n",
    "    gm.graph.print_tabular()\n",
    "    return gm.forward\n",
    "x  = torch.randn(3)\n",
    "out = fn(x)\n",
    "print(out)\n",
    "torch._dynamo.reset()\n",
    "compiled_fn = torch.compile(fn, backend=custom_comppiler, fullgraph=False)\n",
    "compiled_fn(x)"
   ]
  },
  {
   "cell_type": "code",
   "execution_count": null,
   "id": "376d3fb4-05ad-4457-9735-7416177e8fcb",
   "metadata": {},
   "outputs": [],
   "source": []
  },
  {
   "cell_type": "code",
   "execution_count": null,
   "id": "0702b518-d070-4029-b18a-6dcc10e7b222",
   "metadata": {},
   "outputs": [],
   "source": []
  }
 ],
 "metadata": {
  "kernelspec": {
   "display_name": "Python 3 (ipykernel)",
   "language": "python",
   "name": "python3"
  },
  "language_info": {
   "codemirror_mode": {
    "name": "ipython",
    "version": 3
   },
   "file_extension": ".py",
   "mimetype": "text/x-python",
   "name": "python",
   "nbconvert_exporter": "python",
   "pygments_lexer": "ipython3",
   "version": "3.8.18"
  }
 },
 "nbformat": 4,
 "nbformat_minor": 5
}
