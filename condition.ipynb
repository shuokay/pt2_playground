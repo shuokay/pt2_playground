{
 "cells": [
  {
   "cell_type": "code",
   "execution_count": 14,
   "id": "5553a92b-1b6e-4233-888c-0d4b69b3f68e",
   "metadata": {},
   "outputs": [],
   "source": [
    "import torch\n",
    "from functorch.experimental.control_flow import cond, map\n",
    "def test_export_cond_preserve_stack_trace_for_subgraphs():\n",
    "    class MySubModule(torch.nn.Module):\n",
    "        def foo(self, x):\n",
    "            return x.cos()\n",
    "\n",
    "        def forward(self, x):\n",
    "            return self.foo(x)\n",
    "\n",
    "    class CondBranchClassMethod(torch.nn.Module):\n",
    "        def __init__(self):\n",
    "            super().__init__()\n",
    "            self.subm = MySubModule()\n",
    "\n",
    "        def bar(self, x):\n",
    "            return x.sin()\n",
    "\n",
    "        def forward(self, x):\n",
    "            return cond(x.sum() <= 2, self.subm.forward, self.bar, [x])\n",
    "\n",
    "\n",
    "    from torch._export import capture_pre_autograd_graph\n",
    "\n",
    "    example_inputs = (torch.randn(1, 3, 3, 3),)\n",
    "    m = CondBranchClassMethod()\n",
    "    m.eval()\n",
    "    gm = capture_pre_autograd_graph(m, example_inputs)\n",
    "    gm.print_readable()\n",
    "    return gm"
   ]
  },
  {
   "cell_type": "code",
   "execution_count": 15,
   "id": "3ecd33c4-5e95-4c79-a5a1-26732619ea58",
   "metadata": {},
   "outputs": [
    {
     "name": "stdout",
     "output_type": "stream",
     "text": [
      "class GraphModule(torch.nn.Module):\n",
      "    def forward(self, x):\n",
      "        arg0: f32[1, 3, 3, 3], = fx_pytree.tree_flatten_spec(([x], {}), self._in_spec)\n",
      "        # File: /tmp/ipykernel_97542/2299104986.py:20, code: return cond(x.sum() <= 2, self.subm.forward, self.bar, [x])\n",
      "        sum_default: f32[] = torch.ops.aten.sum.default(arg0)\n",
      "        le_scalar: b8[] = torch.ops.aten.le.Scalar(sum_default, 2);  sum_default = None\n",
      "        true_graph_0 = self.true_graph_0\n",
      "        false_graph_0 = self.false_graph_0\n",
      "        cond: f32[1, 3, 3, 3] = torch.ops.higher_order.cond(le_scalar, true_graph_0, false_graph_0, [arg0]);  le_scalar = true_graph_0 = false_graph_0 = arg0 = None\n",
      "        return pytree.tree_unflatten([cond], self._out_spec)\n",
      "        \n",
      "    class <lambda>(torch.nn.Module):\n",
      "        def forward(self, arg0_1: f32[1, 3, 3, 3]):\n",
      "            # File: /tmp/ipykernel_97542/2299104986.py:20, code: return cond(x.sum() <= 2, self.subm.forward, self.bar, [x])\n",
      "            cos: f32[1, 3, 3, 3] = torch.ops.aten.cos.default(arg0_1);  arg0_1 = None\n",
      "            return cos\n",
      "            \n",
      "    class <lambda>(torch.nn.Module):\n",
      "        def forward(self, arg0_1: f32[1, 3, 3, 3]):\n",
      "            # File: /tmp/ipykernel_97542/2299104986.py:20, code: return cond(x.sum() <= 2, self.subm.forward, self.bar, [x])\n",
      "            sin: f32[1, 3, 3, 3] = torch.ops.aten.sin.default(arg0_1);  arg0_1 = None\n",
      "            return sin\n",
      "            \n"
     ]
    }
   ],
   "source": [
    "gm = test_export_cond_preserve_stack_trace_for_subgraphs()"
   ]
  },
  {
   "cell_type": "code",
   "execution_count": 16,
   "id": "10a8774f-c0fc-4409-bf36-f015948f18c8",
   "metadata": {},
   "outputs": [],
   "source": [
    "g = torch.fx.passes.graph_drawer.FxGraphDrawer(gm, \"condition_model\")\n",
    "g.get_dot_graph().write_svg(\"/home/users/yushu.gao/shared/condition_model.svg\")"
   ]
  },
  {
   "cell_type": "code",
   "execution_count": null,
   "id": "3b2166f8-9b17-4fc8-91c3-0cb76e6b830a",
   "metadata": {},
   "outputs": [],
   "source": []
  }
 ],
 "metadata": {
  "kernelspec": {
   "display_name": "Python 3 (ipykernel)",
   "language": "python",
   "name": "python3"
  },
  "language_info": {
   "codemirror_mode": {
    "name": "ipython",
    "version": 3
   },
   "file_extension": ".py",
   "mimetype": "text/x-python",
   "name": "python",
   "nbconvert_exporter": "python",
   "pygments_lexer": "ipython3",
   "version": "3.8.18"
  }
 },
 "nbformat": 4,
 "nbformat_minor": 5
}
